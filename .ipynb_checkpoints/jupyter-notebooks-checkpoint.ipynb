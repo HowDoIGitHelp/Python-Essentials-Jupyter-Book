{
 "cells": [
  {
   "attachments": {},
   "cell_type": "markdown",
   "id": "fb8c8001-3d76-4b1d-bbd2-17aff11d0692",
   "metadata": {},
   "source": [
    "# Jupyter Notebooks\n",
    "\n",
    "Throughout this training course, you will be using jupyter to write python code, perform data analysis, present results, create visualization, and more. \n",
    "Jupyter notebooks offer data scientists a way to build interactive environments that combine code, documentation, and output. In fact the lecture notes that you will be reading are written in jupyter notebooks.\n",
    "\n",
    "## Launching Jupyter notebook\n",
    "\n",
    "If you installed python through the anaconda distribution, you should be able to launch Jupyter Notebook or Jupyter Lab in Anaconda Navigator. \n",
    "You can also launch them through Anacaonda Prompt. Just run the commands `jupyter lab` or `jupyter notebook`. You can select either jupyter lab or jupyter notebook.\n",
    "\n",
    "![anaconda navigator](images/anaconda_navigator.png)\n",
    "\n",
    "It's up to you on which environment you prefer. Both of them will run through your browser.\n",
    "\n",
    "## Creating notebooks\n",
    "\n",
    "Once you've launched jupyter through either lab/notebook, you should be able to see a file explorer page/tab.\n",
    "\n",
    "![jupyter notebook explorer.png](images/jupyter_notebook_explorer.png)\n",
    "\n",
    "![jupyter lab explorer.png](images/jupyter_lab_explorer.png)\n",
    "\n",
    "The file explorer shows the directory where you installed anaconda or where your ran the command. From here you can navigate to the folder of your choice and create a new notebook. When creating a notebook, jupyter might ask you to select a kernel. Choose Python3 (ipykernel).\n",
    "\n",
    "## Interacting with python through Jupyter Notebooks\n",
    "\n",
    "Jupyter notebooks are composed of cells. Cells can either contain code, markdown, or raw text. With an new notebook you start with one code cell\n",
    "\n",
    "![jupyter notebook empty.png](images/jupyter_notebook_empty.png)\n",
    "\n",
    "Click on the cell to edit it. Since this is a code cell, it is expecting python code.\n",
    "We can write a python expression here\n",
    "\n",
    "![jupyter code cell.png](images/jupyter_code_cell.png)\n",
    "\n",
    "While the cell is selected, you can press Shift+Enter to run the cell (note how this also automatically adds an empty code cell in the bottom). When a code cell is run the code inside it will be executed. It will also check the last line of the cell and try to print its evaluation. \n",
    "\n",
    "![jupyter outputs.png](images/jupyter_outputs.png)\n",
    "\n",
    "In the example above we have created a new cell and added two lines of expression. Notice how in the second cell, there is only one output. As said before, the cells output will automatically display the evaluation of the last line of code. \n",
    "\n",
    "You can also force jupyter to display other things by explicitly calling python's `print()` function\n",
    "\n",
    "![jupyter cells printing.png](images/jupyter_cells_printing.png)\n",
    "\n",
    "If you want to change the cell type of a cell, you can select the desired type in the dropdown found in the tool bar. Other than code cells, you can choose between raw text cells, and markdown cells. Raw text cells will simply render the text placed inside it, while markdown cells will render the text with markdown formatting.\n",
    "\n",
    "For more detailed tutorials, tips, and tricks on how to use Jupyter you check the following external resource:\n",
    "\n",
    "[How to Use Jupyter Notebook: A Beginner’s Tutorial](https://www.dataquest.io/blog/jupyter-notebook-tutorial/)"
   ]
  },
  {
   "cell_type": "code",
   "execution_count": null,
   "id": "30ba232f-3908-4828-baa4-49f933237277",
   "metadata": {},
   "outputs": [],
   "source": []
  }
 ],
 "metadata": {
  "kernelspec": {
   "display_name": "Python 3 (ipykernel)",
   "language": "python",
   "name": "python3"
  },
  "language_info": {
   "codemirror_mode": {
    "name": "ipython",
    "version": 3
   },
   "file_extension": ".py",
   "mimetype": "text/x-python",
   "name": "python",
   "nbconvert_exporter": "python",
   "pygments_lexer": "ipython3",
   "version": "3.12.3"
  }
 },
 "nbformat": 4,
 "nbformat_minor": 5
}
