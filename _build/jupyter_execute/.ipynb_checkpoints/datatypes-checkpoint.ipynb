{
 "cells": [
  {
   "cell_type": "markdown",
   "id": "c71a40e0-53ea-4e56-8f5c-767ead8ee93b",
   "metadata": {},
   "source": [
    "# Datatypes\n",
    "\n",
    "Python supports plenty of literals and data types, most of these you can discover on your own.\n",
    "\n",
    "For purposes of this module, we'll only look at a few: `int`, `float`, `str`, `bool`, `list`, and `dict`.\n",
    "However, we might come across the other data types along the way.\n",
    "\n",
    "## Numerical types\n",
    "\n",
    "These types represent numbers and will play along well with the arithmetic operators.\n",
    "\n",
    "### `int`\n",
    "\n",
    "The `int` datatype stores whole numbers and represents Mathematical integers.\n",
    "Just like Mathematical integers, the `int` datatype is unbounded.\n",
    "That is, we can represent as big or as small numbers as we want.\n",
    "\n",
    "Python also offers `int()` to coerce values to be represented as an `int`:"
   ]
  },
  {
   "cell_type": "code",
   "execution_count": 2,
   "id": "b24645c4-5223-4eb9-94d4-299f08b51a19",
   "metadata": {},
   "outputs": [
    {
     "data": {
      "text/plain": [
       "2"
      ]
     },
     "execution_count": 2,
     "metadata": {},
     "output_type": "execute_result"
    }
   ],
   "source": [
    "int(2.5)"
   ]
  },
  {
   "cell_type": "code",
   "execution_count": 3,
   "id": "307f85de-e3b3-417a-a115-6689390e8969",
   "metadata": {},
   "outputs": [
    {
     "data": {
      "text/plain": [
       "12345"
      ]
     },
     "execution_count": 3,
     "metadata": {},
     "output_type": "execute_result"
    }
   ],
   "source": [
    "int('12345')"
   ]
  },
  {
   "cell_type": "markdown",
   "id": "056c5037-68ff-45a1-8ef8-c7725b8c0475",
   "metadata": {},
   "source": [
    "Note that not all values can be coerced into the `int` type. Trying to do this will result in an error"
   ]
  },
  {
   "cell_type": "code",
   "execution_count": 4,
   "id": "932ca82c-7fbe-43a1-aff3-44f02b58efe8",
   "metadata": {},
   "outputs": [
    {
     "ename": "ValueError",
     "evalue": "invalid literal for int() with base 10: 'word'",
     "output_type": "error",
     "traceback": [
      "\u001b[1;31m---------------------------------------------------------------------------\u001b[0m",
      "\u001b[1;31mValueError\u001b[0m                                Traceback (most recent call last)",
      "Cell \u001b[1;32mIn[4], line 1\u001b[0m\n\u001b[1;32m----> 1\u001b[0m \u001b[38;5;28;43mint\u001b[39;49m\u001b[43m(\u001b[49m\u001b[38;5;124;43m'\u001b[39;49m\u001b[38;5;124;43mword\u001b[39;49m\u001b[38;5;124;43m'\u001b[39;49m\u001b[43m)\u001b[49m\n",
      "\u001b[1;31mValueError\u001b[0m: invalid literal for int() with base 10: 'word'"
     ]
    }
   ],
   "source": [
    "int('word')"
   ]
  },
  {
   "cell_type": "markdown",
   "id": "d7cea783-5dd2-4bf3-8d9e-81a4079bff4f",
   "metadata": {},
   "source": [
    "### `float`\n",
    "\n",
    "Represents floating point numbers.\n",
    "These are numbers that have a fractional part.\n",
    "\n",
    "We also have `float()` to coerce values to be a `float`:"
   ]
  },
  {
   "cell_type": "code",
   "execution_count": 5,
   "id": "36ccecc1-98e8-4426-9453-212cd0342062",
   "metadata": {},
   "outputs": [
    {
     "data": {
      "text/plain": [
       "2.0"
      ]
     },
     "execution_count": 5,
     "metadata": {},
     "output_type": "execute_result"
    }
   ],
   "source": [
    "float(2)"
   ]
  },
  {
   "cell_type": "code",
   "execution_count": 6,
   "id": "aa0f5a8c-926b-4d60-a6c5-c5ea5c047a7e",
   "metadata": {},
   "outputs": [
    {
     "data": {
      "text/plain": [
       "0.0"
      ]
     },
     "execution_count": 6,
     "metadata": {},
     "output_type": "execute_result"
    }
   ],
   "source": [
    "float()"
   ]
  },
  {
   "cell_type": "code",
   "execution_count": 7,
   "id": "d117ed1e-6e2f-4b84-a800-caebb9e9a1bf",
   "metadata": {},
   "outputs": [
    {
     "data": {
      "text/plain": [
       "123.456"
      ]
     },
     "execution_count": 7,
     "metadata": {},
     "output_type": "execute_result"
    }
   ],
   "source": [
    "float(\"123.456\")"
   ]
  },
  {
   "cell_type": "markdown",
   "id": "dbbd3dc3-1910-441b-8764-1c8e3e2c1280",
   "metadata": {},
   "source": [
    "### Mixing types\n",
    "\n",
    "Mixing `int` and `float` together in an expression will typically result in the `int` being converted to a `float` first."
   ]
  },
  {
   "cell_type": "code",
   "execution_count": 8,
   "id": "f71cb58f-b097-4270-9c14-f74915f90318",
   "metadata": {},
   "outputs": [
    {
     "data": {
      "text/plain": [
       "5.0"
      ]
     },
     "execution_count": 8,
     "metadata": {},
     "output_type": "execute_result"
    }
   ],
   "source": [
    "2.0 + 3"
   ]
  },
  {
   "cell_type": "code",
   "execution_count": 9,
   "id": "f4b6b6b3-d828-4a0c-89d6-6016e5341079",
   "metadata": {},
   "outputs": [
    {
     "data": {
      "text/plain": [
       "50.0"
      ]
     },
     "execution_count": 9,
     "metadata": {},
     "output_type": "execute_result"
    }
   ],
   "source": [
    "5 * 10.0"
   ]
  },
  {
   "cell_type": "markdown",
   "id": "3afd672e-aa14-4e30-9789-fc676cda6fee",
   "metadata": {},
   "source": [
    "The `int`, `3`, is implicitly converted to a `float` and then added with the other `float`.\n",
    "Thus, we get a `5.0` as we're adding two `float`s.\n",
    "\n",
    "## Text sequence type\n",
    "\n",
    "Python represents words and characters as strings.\n",
    "Strings are immutable sequences of characters.\n",
    "\n",
    "Python accepts either single or double quotes to represent strings:"
   ]
  },
  {
   "cell_type": "code",
   "execution_count": 10,
   "id": "9ee36bf6-c4ba-44dc-ac3f-20032ae0dcda",
   "metadata": {},
   "outputs": [
    {
     "data": {
      "text/plain": [
       "'Hello'"
      ]
     },
     "execution_count": 10,
     "metadata": {},
     "output_type": "execute_result"
    }
   ],
   "source": [
    "\"Hello\""
   ]
  },
  {
   "cell_type": "code",
   "execution_count": 11,
   "id": "2de4152f-394a-4ea8-a515-963ed5e85581",
   "metadata": {},
   "outputs": [
    {
     "data": {
      "text/plain": [
       "'Hello'"
      ]
     },
     "execution_count": 11,
     "metadata": {},
     "output_type": "execute_result"
    }
   ],
   "source": [
    "'Hello'"
   ]
  },
  {
   "cell_type": "code",
   "execution_count": 12,
   "id": "e049e668-4596-4b72-b755-ba89413d28d6",
   "metadata": {},
   "outputs": [
    {
     "data": {
      "text/plain": [
       "'Sam says, \"jump!\"'"
      ]
     },
     "execution_count": 12,
     "metadata": {},
     "output_type": "execute_result"
    }
   ],
   "source": [
    "'Sam says, \"jump!\"'"
   ]
  },
  {
   "cell_type": "markdown",
   "id": "a3b48558-0866-4e01-979f-41b4652aadb5",
   "metadata": {},
   "source": [
    "Even triple quotes are accepted:"
   ]
  },
  {
   "cell_type": "code",
   "execution_count": 13,
   "id": "4e2cd88d-cbe5-413d-a500-0054bf5f5ba2",
   "metadata": {},
   "outputs": [
    {
     "data": {
      "text/plain": [
       "'Triple\\nquotes\\nallow\\nmulti\\nline'"
      ]
     },
     "execution_count": 13,
     "metadata": {},
     "output_type": "execute_result"
    }
   ],
   "source": [
    "\"\"\"Triple\n",
    "quotes\n",
    "allow\n",
    "multi\n",
    "line\"\"\""
   ]
  },
  {
   "cell_type": "markdown",
   "id": "92679e25-d7c5-49d0-b717-536f3a9454ee",
   "metadata": {},
   "source": [
    "`\\n` is a special escape sequence that represents a linebreak (see more escape sequences: <https://docs.python.org/3/reference/lexical_analysis.html#escape-sequences>).\n",
    "If we print it out with `print`, the linebreaks are displayed as actual linebreaks:"
   ]
  },
  {
   "cell_type": "code",
   "execution_count": 14,
   "id": "ec66b671-48f0-404e-9ae1-e730f4349273",
   "metadata": {},
   "outputs": [
    {
     "name": "stdout",
     "output_type": "stream",
     "text": [
      "Triple\n",
      "quotes\n",
      "allow\n",
      "multi\n",
      "line\n"
     ]
    }
   ],
   "source": [
    "print(\"\"\"Triple\n",
    "quotes\n",
    "allow\n",
    "multi\n",
    "line\"\"\")"
   ]
  },
  {
   "cell_type": "markdown",
   "id": "8e6d8169-6603-4803-a3d2-a2af6c58e969",
   "metadata": {},
   "source": [
    "`str()` coerces values to be a string."
   ]
  },
  {
   "cell_type": "code",
   "execution_count": 15,
   "id": "07c2979c-fe21-43e2-947f-6a2028d63a76",
   "metadata": {},
   "outputs": [
    {
     "data": {
      "text/plain": [
       "'-5.0'"
      ]
     },
     "execution_count": 15,
     "metadata": {},
     "output_type": "execute_result"
    }
   ],
   "source": [
    "str(-5.0)"
   ]
  },
  {
   "cell_type": "code",
   "execution_count": 16,
   "id": "e8573c03-837d-4ab0-bc22-c6f46adb63aa",
   "metadata": {},
   "outputs": [
    {
     "data": {
      "text/plain": [
       "'4'"
      ]
     },
     "execution_count": 16,
     "metadata": {},
     "output_type": "execute_result"
    }
   ],
   "source": [
    "str(1+3)"
   ]
  },
  {
   "cell_type": "markdown",
   "id": "7e2f28c1-431d-4308-b4f6-26bc906c7d6a",
   "metadata": {},
   "source": [
    "```python\n",
    ">>> str(-5.0)\n",
    "'-5.0'\n",
    ">>> str(1 + 3)\n",
    "'4'\n",
    ">>> a = 23 / 7\n",
    ">>> str(a)\n",
    "'3.2857142857142856'\n",
    "```\n",
    "\n",
    "### Concatenation\n",
    "\n",
    "Strings can be combined to form a new longer string.\n",
    "This is called concatenation.\n",
    "\n",
    "```python\n",
    ">>> \"Hello\" + \" \" + \"world\"\n",
    "'Hello world'\n",
    "```\n",
    "\n",
    "You might think the `-` operator does something too:\n",
    "\n",
    "```python\n",
    ">>> 'Hello' - 'ello'\n",
    "Traceback (most recent call last):\n",
    "  File \"<stdin>\", line 1, in <module>\n",
    "TypeError: unsupported operand type(s) for -: 'str' and 'str'\n",
    "```\n",
    "\n",
    "Unfortunately not.\n",
    "`str` types do not support the `-` operator.\n",
    "\n",
    "Python does **not** support concatenating `str` and numeric types like `int`:\n",
    "\n",
    "```python\n",
    ">>> \"Priority number: \" + 3\n",
    "Traceback (most recent call last):\n",
    "  File \"<stdin>\", line 1, in <module>\n",
    "TypeError: can only concatenate str (not \"int\") to str\n",
    "```\n",
    "\n",
    "We have to first convert the `3` to a `str`:\n",
    "\n",
    "```python\n",
    ">>> \"Priority number: \" + str(3)\n",
    "'Priority number: 3'\n",
    "```\n",
    "\n",
    "### Replication\n",
    "\n",
    "Python strings support the `*` operator though.\n",
    "This multiplies strings to repeat them:\n",
    "\n",
    "```python\n",
    ">>> \"Hello\" * 3\n",
    "'HelloHelloHello'\n",
    ">>> \"5\" + \",000\" * 3\n",
    "'5,000,000,000'\n",
    ">>> 'A' * 10\n",
    "'AAAAAAAAAA'\n",
    "```\n",
    "\n",
    "## Boolean type\n",
    "\n",
    "This is a value to represent true and false values.\n",
    "\n",
    "In Python, we use the keywords `True` and `False`:\n",
    "\n",
    "```python\n",
    ">>> True\n",
    "True\n",
    ">>> False\n",
    "False\n",
    ">>> 5 == 5\n",
    "True\n",
    "```\n",
    "\n",
    "### Boolean operators\n",
    "\n",
    "We also have the classic Boolean operators `and`, `or`, `not`.\n",
    "\n",
    "`and`:\n",
    "\n",
    "```python\n",
    ">>> True and True\n",
    "True\n",
    ">>> True and False\n",
    "False\n",
    "```\n",
    "\n",
    "`or`:\n",
    "\n",
    "```python\n",
    ">>> True or True\n",
    "True\n",
    ">>> True or False\n",
    "True\n",
    "```\n",
    "\n",
    "and `not`:\n",
    "\n",
    "```python\n",
    ">>> not True\n",
    "False\n",
    ">>> not False\n",
    "True\n",
    "```\n",
    "\n",
    "#### Compound Boolean\n",
    "\n",
    "We can compound Boolean expressions together.\n",
    "\n",
    "```python\n",
    ">>> (True and True) and (True and False)\n",
    "False\n",
    ">>> x = True\n",
    ">>> y = False\n",
    ">>> x or (not y)\n",
    "True\n",
    "```\n",
    "\n",
    "Grouping can become important when involving the `not` operator.\n",
    "\n",
    "```python\n",
    ">>> not (True and False)\n",
    "True\n",
    ">>> not True and False\n",
    "False\n",
    "```\n",
    "\n",
    "Best to always include the grouping parenthesis, just to be sure.\n",
    "Or better yet, use variables!\n",
    "\n",
    "```python\n",
    ">>> sorted = True and False\n",
    ">>> not sorted\n",
    "True\n",
    "```\n",
    "\n",
    "#### Truth table\n",
    "\n",
    "| and       | True  | False |\n",
    "| --------- | ----- | ----- |\n",
    "| **True**  | True  | False |\n",
    "| **False** | False | False |\n",
    "\n",
    "| or        | True  | False |\n",
    "| --------- | ----- | ----- |\n",
    "| **True**  | True  | True  |\n",
    "| **False** | True  | False |\n",
    "\n",
    "## Sequence type\n",
    "\n",
    "A sequence type is used to store multiple values together under a single name.\n",
    "\n",
    "For Python, the basic type for sequences is the `list`.\n",
    "Lists are created with square brackets, `[]`.\n",
    "\n",
    "```python\n",
    ">>> []\n",
    "[]\n",
    ">>> ['abc', 123, True]\n",
    "['abc', 123, True]\n",
    "```\n",
    "\n",
    "Python lists can store any other type together, unlike many other programming languages.\n",
    "\n",
    "That Python lists can store arbitrary types is both a curse and a blessing.\n",
    "On one hand, it is convenient to be able to add any type to a list.\n",
    "On the other, you aren't sure that a list's items are all of the same type.\n",
    "We'll see later on why it's better to have a consistent data type in the list.\n",
    "\n",
    "Lists can even be used to store other lists:\n",
    "\n",
    "```python\n",
    ">>> [[0, 1, 2], [3, 4, 5]]\n",
    "```\n",
    "\n",
    "### Inserting items\n",
    "\n",
    "We can add more items to the end of the list using the `.append()` method of a list.\n",
    "\n",
    "```python\n",
    ">>> items = [\"Apple\", \"Banana\", \"Cherry\"]\n",
    ">>> items.append(\"Durian\")\n",
    ">>> items\n",
    "['Apple', 'Banana', 'Cherry', 'Durian']\n",
    "```\n",
    "\n",
    "And insert items in specified arbitrary positions with `.insert()`:\n",
    "\n",
    "```python\n",
    ">>> items = [\"Apple\", \"Banana\", \"Cherry\"]\n",
    ">>> items.insert(2, \"Durian\")\n",
    ">>> items\n",
    "['Apple', 'Banana', 'Durian', 'Cherry']\n",
    "```\n",
    "\n",
    "The index given to `.insert()` indicates the index that the new item will be inserted in.\n",
    "\n",
    "### Retrieving items\n",
    "\n",
    "To retrieve items from the list, we use indexing.\n",
    "This is indicated by `[]` and is typically read as \"sub\" (e.g. `items[2]` is read \"items sub 2\").\n",
    "\n",
    "```python\n",
    ">>> items = [\"Apple\", \"Banana\", \"Cherry\"]\n",
    ">>> items[0]\n",
    "'Apple'\n",
    ">>> items[2]\n",
    "'Cherry'\n",
    "```\n",
    "\n",
    "Python starts counting at `0`-index, i.e., the first item of the list is at index `0` and the last is at index `size - 1`.\n",
    "\n",
    "### Updating items\n",
    "\n",
    "To update items in the list, we first retrieve the item and reassign it.\n",
    "\n",
    "```python\n",
    ">>> items = [\"Apple\", \"Banana\", \"Cherry\"]\n",
    ">>> items[0] = \"Melon\"\n",
    ">>> items\n",
    "['Melon', 'Banana', 'Cherry']\n",
    ">>> items[2] = 5\n",
    ">>> items\n",
    "['Melon', 'Banana', 5]\n",
    "```\n",
    "\n",
    "### Deleting items\n",
    "\n",
    "To remove an item from the list, we have `del` and `.remove()`.\n",
    "\n",
    "To remove an item by index, use `del`:\n",
    "\n",
    "```python\n",
    ">>> items = [\"Apple\", \"Banana\", \"Cherry\"]\n",
    ">>> del items[1]\n",
    ">>> items\n",
    "['Apple', 'Cherry']\n",
    "```\n",
    "\n",
    "Alternatively, we have the `.remove()` method.\n",
    "This removes the first item that matches.\n",
    "\n",
    "```python\n",
    ">>> items = ['Apple', 'Cherry', 'Banana', 'Cherry']\n",
    ">>> items.remove('Cherry')\n",
    ">>> items\n",
    "['Apple', 'Banana', 'Cherry']\n",
    "```\n",
    "\n",
    "Note that this only removes one item at a time.\n",
    "\n",
    "## Tuples\n",
    "\n",
    "Python tuples are just like the Python list, except that they are **immutable**.\n",
    "That is, they are lists that cannot be modified after creation.\n",
    "\n",
    "Tuples are used to represent values that go together, such as a coordinate double (x and y) or a triple (x, y, and z).\n",
    "\n",
    "We can create a tuple by separating values with a `,`:\n",
    "\n",
    "```python\n",
    ">>> 1, 2\n",
    "(1, 2)\n",
    ">>> \"Apple\", 13\n",
    "('Apple', 13)\n",
    ">>> (3.1, -2.5, 1, 'x', 'y', 'z')\n",
    "(3.1, -2.5, 1, 'x', 'y', 'z')\n",
    "```\n",
    "\n",
    "Python represents tuples with parentheses.\n",
    "\n",
    "And in the same way as lists, we can access items of the tuple by indexing:\n",
    "\n",
    "```python\n",
    ">>> coords = (2.1, 0.3, -5.0)\n",
    ">>> coords[0]\n",
    "2.1\n",
    ">>> coords[2]\n",
    "-5.0\n",
    "```\n",
    "\n",
    "But if we attempt to modify the tuple,\n",
    "\n",
    "```python\n",
    ">>> coords[0] = 0\n",
    "Traceback (most recent call last):\n",
    "  File \"<stdin>\", line 1, in <module>\n",
    "TypeError: 'tuple' object does not support item assignment\n",
    "```\n",
    "\n",
    "Remember that tuples are immutable.\n",
    "\n",
    "### Packing and unpacking\n",
    "\n",
    "We've already seen what's called *tuple packing*.\n",
    "\n",
    "```python\n",
    ">>> coords = 2.1, 0.3, -5.0\n",
    "```\n",
    "\n",
    "The above statement packs the 3 values together down into a tuple and then assigns it to `coords`.\n",
    "\n",
    "The reverse is also possible, called *sequence unpacking*.\n",
    "\n",
    "Here's an example of a sequence unpack:\n",
    "\n",
    "```python\n",
    ">>> x, y = (2.5, 13.1)\n",
    ">>> x\n",
    "2.5\n",
    ">>> y\n",
    "13.1\n",
    "```\n",
    "\n",
    "The tuple on the right-hand side is unpacked and assigned into the variables `x` and `y`.\n",
    "`x` gets assigned `2.5` and `y` is assigned `13.1`.\n",
    "\n",
    "Sequence unpacking requires the correct number of left-hand side variables to the number of right-hand side items.\n",
    "\n",
    "Note that it's called *sequence* unpacking.\n",
    "This means it also works for other sequences, such as lists and even `str`.\n",
    "\n",
    "```python\n",
    ">>> a, b, c = 'xyz'\n",
    ">>> a\n",
    "'x'\n",
    ">>> b\n",
    "'y'\n",
    ">>> c\n",
    "'z'\n",
    "```\n",
    "\n",
    "## Dictionaries\n",
    "\n",
    "Dictionaries allow us to map almost arbitrary keys to values.\n",
    "For now, we can think of dictionaries as lists that allow us to \"index\" by a key.\n",
    "\n",
    "Dictionaries are created with `{}`.\n",
    "Each key-value entry of the dictionary is separated by a `:`, with the key on the left and its value to the right.\n",
    "\n",
    "```python\n",
    ">>> {\"one\": 1, \"two\": 2, \"three\": 3, \"four\": 4}\n",
    "{'one': 1, 'two': 2, 'three': 3, 'four': 4}\n",
    "```\n",
    "\n",
    "Oftentimes, a dictionary key is a string but it technically could be any other \"hashable\"[^hashable] value as well.\n",
    "\n",
    "[^hashable]: https://docs.python.org/3/glossary.html#term-hashable\n",
    "\n",
    "```python\n",
    ">>> {1: \"one\", 2: \"two\", 3: \"three\", 9: \"nine\"}\n",
    "{1: 'one', 2: 'two', 3: 'three', 9: 'nine'}\n",
    "```\n",
    "\n",
    "Hashable values are values that are immutable, such as `int`, `float`, `str`, and other types that at least implement the `__hash__()` method.\n",
    "\n",
    "Accessing a key is done by \"indexing\":\n",
    "\n",
    "```python\n",
    ">>> item = {\"name\": \"Fish\", \"quantity\": 3, \"price\": 412.25}\n",
    ">>> item\n",
    "{'name': 'Fish', 'quantity': 3, 'price': 412.25}\n",
    ">>> item[\"quantity\"]\n",
    "3\n",
    "```\n",
    "\n",
    "Adding an entry is also done by first retrieving an item and assigning a value to it.\n",
    "\n",
    "```python\n",
    ">>> item = {\"name\": \"Fish\"}\n",
    ">>> item\n",
    "{'name': 'Fish'}\n",
    ">>> item[\"price\"] = 230.00\n",
    ">>> item\n",
    "{'name': 'Fish', 'price': 230}\n",
    "```\n",
    "\n",
    "Updating is done the same way, first retrieving an already existing entry and then reassigning a new value to it:\n",
    "\n",
    "```python\n",
    ">>> item = {\"name\": \"Fish\"}\n",
    ">>> item\n",
    "{'name': 'Fish'}\n",
    ">>> item[\"name\"] = \"Burger\"\n",
    ">>> item\n",
    "{'name': 'Burger'}\n",
    "```\n",
    "\n",
    "Deleting a key is done with `del`:\n",
    "\n",
    "```python\n",
    ">>> item = {\"name\": \"Fish\"}\n",
    ">>> item\n",
    "{'name': 'Fish'}\n",
    ">>> del item[\"name\"]\n",
    ">>> item\n",
    "{}\n",
    "```"
   ]
  }
 ],
 "metadata": {
  "kernelspec": {
   "display_name": "Python 3 (ipykernel)",
   "language": "python",
   "name": "python3"
  },
  "language_info": {
   "codemirror_mode": {
    "name": "ipython",
    "version": 3
   },
   "file_extension": ".py",
   "mimetype": "text/x-python",
   "name": "python",
   "nbconvert_exporter": "python",
   "pygments_lexer": "ipython3",
   "version": "3.12.3"
  }
 },
 "nbformat": 4,
 "nbformat_minor": 5
}
