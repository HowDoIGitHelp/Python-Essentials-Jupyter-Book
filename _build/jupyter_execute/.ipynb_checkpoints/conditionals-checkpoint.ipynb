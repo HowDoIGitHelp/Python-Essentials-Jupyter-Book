{
 "cells": [
  {
   "cell_type": "code",
   "execution_count": 1,
   "id": "06bbaa9f-4f15-405d-af90-2f2f1e3b4c8b",
   "metadata": {},
   "outputs": [
    {
     "name": "stdout",
     "output_type": "stream",
     "text": [
      "High\n"
     ]
    }
   ],
   "source": [
    "num = 65\n",
    "if num > 60:\n",
    "    print(\"High\")\n",
    "else:\n",
    "    print(\"Low\")"
   ]
  },
  {
   "cell_type": "markdown",
   "id": "347566a8-202c-441c-a908-407c4411838c",
   "metadata": {},
   "source": [
    "> Using `else` without an `if` is a syntax error."
   ]
  },
  {
   "cell_type": "code",
   "execution_count": 2,
   "id": "43f49027-761f-42c0-8071-a3493ac251a5",
   "metadata": {},
   "outputs": [
    {
     "name": "stdout",
     "output_type": "stream",
     "text": [
      "Low\n"
     ]
    }
   ],
   "source": [
    "num = 24\n",
    "if num > 60:\n",
    "    print(\"High\")\n",
    "else:\n",
    "    if num <=60 and num > 40:\n",
    "        print(\"Medium\")\n",
    "    else:\n",
    "        print(\"Low\")"
   ]
  },
  {
   "attachments": {},
   "cell_type": "markdown",
   "id": "72fc179b-c764-47bf-9774-a692c020df10",
   "metadata": {},
   "source": [
    "In the code above, the program can go in either three branches, if the inputted number is greater than 60, it goes to the first branch and prints \"High\", if the inputted number is 60 or lesser but greater than 40, it goes to the 2nd branch. If it is not greater than 60, or if it is not between 40 and 60, it goes to the third branch. The third branch in this case is the `else` branch of the `else` branch.\n",
    "\n",
    "> Notice the indentation of the last four lines of code, the last four lines are all inside the `else` block. To indicate this we add one more level of indentation to the every line in the block\n",
    "\n",
    "You can write write three branches neatly using the `elif` block. `elif` is short for `else-if` and it acts like a combination of an `else` block and an `if` block. Using the `elif` block we can write a more readable program equivalent to the previous program."
   ]
  },
  {
   "cell_type": "code",
   "execution_count": 3,
   "id": "bbb9b419-3865-47ff-b4db-04193da23c66",
   "metadata": {},
   "outputs": [
    {
     "name": "stdout",
     "output_type": "stream",
     "text": [
      "Medium\n"
     ]
    }
   ],
   "source": [
    "num = 45\n",
    "if num > 60:\n",
    "    print(\"High\")\n",
    "elif num <=60 and num > 40:\n",
    "    print(\"Medium\")\n",
    "else:\n",
    "    print(\"Low\")"
   ]
  },
  {
   "cell_type": "markdown",
   "id": "4b3f2c33-48ac-407b-aa94-2df90e11bce1",
   "metadata": {},
   "source": [
    "Creating `if-else` blocks, allows us to split the program into two branches. If we are looking for more than two we can compound `if-else` statements inside other `if` or `else` statements."
   ]
  },
  {
   "cell_type": "code",
   "execution_count": null,
   "id": "8e49409a-b26a-4479-9ee3-3cbf20f493a2",
   "metadata": {},
   "outputs": [],
   "source": []
  }
 ],
 "metadata": {
  "jupytext": {
   "formats": "md:myst",
   "text_representation": {
    "extension": ".md",
    "format_name": "myst"
   }
  },
  "kernelspec": {
   "display_name": "Python 3 (ipykernel)",
   "language": "python",
   "name": "python3"
  },
  "language_info": {
   "codemirror_mode": {
    "name": "ipython",
    "version": 3
   },
   "file_extension": ".py",
   "mimetype": "text/x-python",
   "name": "python",
   "nbconvert_exporter": "python",
   "pygments_lexer": "ipython3",
   "version": "3.12.3"
  },
  "source_map": [
   11,
   28,
   34,
   39,
   43,
   47,
   56,
   82,
   87
  ]
 },
 "nbformat": 4,
 "nbformat_minor": 5
}
