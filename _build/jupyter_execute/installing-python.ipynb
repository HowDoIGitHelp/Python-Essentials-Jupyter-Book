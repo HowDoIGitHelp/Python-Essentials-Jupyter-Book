{
 "cells": [
  {
   "attachments": {},
   "cell_type": "markdown",
   "id": "e9c01f22-ec4a-418a-9ef0-64bbbea528aa",
   "metadata": {},
   "source": [
    "# Installing Python\n",
    "\n",
    "## Anaconda python\n",
    "\n",
    "Installing anaconda python comes with with useful resources. The anaconda install comes with python 3, jupyter, conda environment and more:\n",
    "You can download anaconda through the [anaconda download page](https://www.anaconda.com/download/success).\n",
    "\n",
    "Choose the correct installer for your operating system\n",
    "\n",
    "![anaconda_download page.png](images/anaconda_download_page.png)\n",
    "\n",
    "Install the anaconda using the installer. To avoid issues try to choose an installation path that does not contain any spaces. The installer will warn you about this. \n",
    "\n",
    "You can just follow the default installation choices from here.\n",
    "\n",
    "![anaconda_installation.png](images/anaconda_installation.png)\n",
    "\n",
    "If successfully installed, the installer will install the following tools to your computer:\n",
    "- Python\n",
    "- Anaconda Prompt\n",
    "- Anaconda Navigator\n",
    "- Jupyter Notebook\n",
    "- Jupyter Lab\n",
    "- Spyder IDE\n",
    "\n",
    "To verify your python installation you can run anaconda prompt. It will open the anaconda terminal. From the terminal you can use anaconda's command line tools.\n",
    "\n",
    "Type the command `python` and press enter:\n",
    "\n",
    "![python_command.png](images/python_command.png)\n",
    "\n",
    "If everything is good, anaconda prompt should send you to the python interpreter\n",
    "\n",
    "![python_interpreter.png](images/python_interpreter.png)\n",
    "\n",
    "You can now use the anaconda terminal to run python scripts\n",
    "\n",
    "## Adding python to your PATH variable\n",
    "\n",
    "If you want to use python in your own terminal, you can add the python executable in your PATH variable. \n",
    "The way to do this will depend on your operating system. \n",
    "Check the guides below for updating the value of PATH:\n",
    "- [Windows](https://www.computerhope.com/issues/ch000549.htm)\n",
    "- [Mac/Linux](https://mac.install.guide/terminal/path)\n",
    "\n",
    "If you're successful in adding python to yout PATH variable, you should be able to run the `python` command in your terminal of choice\n",
    "\n",
    "> If you already have a python installation in your machine, this is not advised.\n",
    "> \n",
    "> For newer version of windows, running the `python` command may redirect you to the Microsoft Store Download Page for python. To change this, find the setting \"App execution aliases\" and toggle off the option for App Installer-python.exe and App Installer-python3.exe\n",
    "\n",
    "## Python Standalone\n",
    "\n",
    "If you do not want to install the anaconda tool stack. You can also opt to install the python by itself.\n",
    "You can follow the instructions on [python's download page](https://www.python.org/downloads/)\n",
    "\n",
    "If you do choose to install python by itself you will also need to manually install jupyter, which will be used in this training course. You can select between jupyter lab and jupyter notebook, or even install it as a plugin in VSCode. You can find installation instructions in the [jupyter page](https://jupyter.org/install)"
   ]
  },
  {
   "cell_type": "code",
   "execution_count": null,
   "id": "9908c9b7-91c9-4b69-8edb-2c45e043bbfe",
   "metadata": {},
   "outputs": [],
   "source": []
  }
 ],
 "metadata": {
  "kernelspec": {
   "display_name": "Python 3 (ipykernel)",
   "language": "python",
   "name": "python3"
  },
  "language_info": {
   "codemirror_mode": {
    "name": "ipython",
    "version": 3
   },
   "file_extension": ".py",
   "mimetype": "text/x-python",
   "name": "python",
   "nbconvert_exporter": "python",
   "pygments_lexer": "ipython3",
   "version": "3.12.3"
  }
 },
 "nbformat": 4,
 "nbformat_minor": 5
}