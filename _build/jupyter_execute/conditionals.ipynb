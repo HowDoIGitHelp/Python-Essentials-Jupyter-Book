{
 "cells": [
  {
   "cell_type": "markdown",
   "id": "8c404d33-9b36-456c-abfb-e15a72123dd4",
   "metadata": {},
   "source": [
    "# Conditionals\n",
    "\n",
    "To enable our program to adapt and be more useful, we have to make use of control flow statements and conditionals.\n",
    "\n",
    "In a flowchart, conditionals are blocks that allow the execution to split off into another branch depending on certain values.\n",
    "This allows a flowchart to be more useful and be applicable to a variety of scenarios.\n",
    "\n",
    "In the same way, we want our program to be useful and applicable to a variety of scenarios as well.\n",
    "\n",
    "In Python, we have a few statements related to conditionals: `if`, `else`, and `elif`.\n",
    "\n",
    "## `if`\n",
    "\n",
    "The `if` statement is a conditional that defines that a block of code is to be executed if the condition is true; otherwise, it is skipped."
   ]
  },
  {
   "cell_type": "code",
   "execution_count": 1,
   "id": "6b99b95c-d515-49a7-bf68-781d2b9400b4",
   "metadata": {},
   "outputs": [
    {
     "name": "stdout",
     "output_type": "stream",
     "text": [
      "Hey, it's true!\n"
     ]
    }
   ],
   "source": [
    "if True:\n",
    "    print(\"Hey, it's true!\")\n",
    "\n",
    "if False:\n",
    "    print(\"This is false, it won't print.\")"
   ]
  },
  {
   "cell_type": "markdown",
   "id": "e4ba8a4a-38fd-4268-9087-fb958287a5fb",
   "metadata": {},
   "source": [
    "Note that the indentation here is important.\n",
    "It determines whether the code falls under the `if` statement or not."
   ]
  },
  {
   "cell_type": "code",
   "execution_count": 2,
   "id": "c6f69cef-b24a-4289-a0f2-506b5d14c7f4",
   "metadata": {},
   "outputs": [
    {
     "name": "stdout",
     "output_type": "stream",
     "text": [
      "I'm outside of the if so I get printed\n"
     ]
    }
   ],
   "source": [
    "if False:\n",
    "    print(\"Not printing\")\n",
    "print(\"I'm outside of the if so I get printed\")"
   ]
  },
  {
   "cell_type": "markdown",
   "id": "4c0bd95b-5387-4a59-bc78-7c15bf76e575",
   "metadata": {},
   "source": [
    "As with much of programming, we can compound the condition and nest it:"
   ]
  },
  {
   "cell_type": "code",
   "execution_count": 3,
   "id": "e26bfe37-8f53-4d31-8cfc-5dd6230a8476",
   "metadata": {},
   "outputs": [
    {
     "name": "stdout",
     "output_type": "stream",
     "text": [
      "This is printing\n"
     ]
    }
   ],
   "source": [
    "if True:\n",
    "    print(\"This is printing\")\n",
    "    if False:\n",
    "        print(\"But not this\")\n",
    "if False:\n",
    "    print(\"None of this either\")\n",
    "    if True:\n",
    "        print(\"Nor this\")"
   ]
  },
  {
   "cell_type": "markdown",
   "id": "092ae008-9d0d-49f9-b392-e8c97a806741",
   "metadata": {},
   "source": [
    "Of course, we wouldn't be checking if `True` is true or `False` is false in a real program.\n",
    "Most likely, we'd have a variable or a condition instead of a literal.\n",
    "\n",
    "> Notice the indentation of the last two lines of code, the last two lines are all inside the `if False` block. To indicate this we add one more level of indentation to every line in the block"
   ]
  },
  {
   "cell_type": "code",
   "execution_count": 4,
   "id": "5acc2fca-d358-4d11-9600-41801aaae389",
   "metadata": {},
   "outputs": [
    {
     "name": "stdout",
     "output_type": "stream",
     "text": [
      "Low\n"
     ]
    }
   ],
   "source": [
    "num = 10\n",
    "if num > 60:\n",
    "    print(\"High\")\n",
    "if num <= 60:\n",
    "    print(\"Low\")"
   ]
  },
  {
   "cell_type": "markdown",
   "id": "db7c8ceb-6dbb-45b7-93ff-6dc9ef717a49",
   "metadata": {},
   "source": [
    "Depending on the value of `num` provided, we'd get an output of `High` or `Low`.\n",
    "\n",
    "The expression `num > 60` either evaluates to `True`, which will tell Python to proceed with the clause under the first `if` statement, or `num <= 60` is true, telling Python to print `Low`.\n",
    "\n",
    "This either-or pattern is common enough that we have a construct for that.\n",
    "\n",
    "## `else`\n",
    "\n",
    "The `if` statement may have an optional `else` statement after it, implementing the either-or pattern.\n",
    "\n",
    "In an `if-else` statement, only one block of the two is executed."
   ]
  },
  {
   "cell_type": "code",
   "execution_count": 5,
   "id": "30cc3e92-61bb-4c8e-a7ca-4e7d75cd09b5",
   "metadata": {},
   "outputs": [
    {
     "name": "stdout",
     "output_type": "stream",
     "text": [
      "Only this\n"
     ]
    }
   ],
   "source": [
    "if True:\n",
    "    print(\"Only this\")\n",
    "else:\n",
    "    print(\"and not this\")"
   ]
  }
 ],
 "metadata": {
  "kernelspec": {
   "display_name": "Python 3 (ipykernel)",
   "language": "python",
   "name": "python3"
  },
  "language_info": {
   "codemirror_mode": {
    "name": "ipython",
    "version": 3
   },
   "file_extension": ".py",
   "mimetype": "text/x-python",
   "name": "python",
   "nbconvert_exporter": "python",
   "pygments_lexer": "ipython3",
   "version": "3.12.3"
  }
 },
 "nbformat": 4,
 "nbformat_minor": 5
}