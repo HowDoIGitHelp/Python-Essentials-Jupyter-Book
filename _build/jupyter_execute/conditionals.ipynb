{
 "cells": [
  {
   "cell_type": "markdown",
   "id": "8c404d33-9b36-456c-abfb-e15a72123dd4",
   "metadata": {},
   "source": [
    "# Conditionals\n",
    "\n",
    "To enable our program to adapt and be more useful, we have to make use of control flow statements and conditionals.\n",
    "\n",
    "In a flowchart, conditionals are blocks that allow the execution to split off into another branch depending on certain values.\n",
    "This allows a flowchart to be more useful and be applicable to a variety of scenarios.\n",
    "\n",
    "In the same way, we want our program to be useful and applicable to a variety of scenarios as well.\n",
    "\n",
    "In Python, we have a few statements related to conditionals: `if`, `else`, and `elif`.\n",
    "\n",
    "## `if`\n",
    "\n",
    "The `if` statement is a conditional that defines that a block of code is to be executed if the condition is true; otherwise, it is skipped."
   ]
  },
  {
   "cell_type": "code",
   "execution_count": 1,
   "id": "6b99b95c-d515-49a7-bf68-781d2b9400b4",
   "metadata": {},
   "outputs": [
    {
     "name": "stdout",
     "output_type": "stream",
     "text": [
      "Hey, it's true!\n",
      "more statements\n",
      "outside\n",
      "inside or outside\n",
      "outside2\n"
     ]
    }
   ],
   "source": [
    "if True:\n",
    "    print(\"Hey, it's true!\") #yes\n",
    "    print('more statements') #yes\n",
    "print('outside') #yes\n",
    "print('inside or outside') #?\n",
    "if False:\n",
    "    print(\"This is false, it won't print.\") #no\n",
    "print('outside2')#yes"
   ]
  },
  {
   "cell_type": "markdown",
   "id": "e4ba8a4a-38fd-4268-9087-fb958287a5fb",
   "metadata": {},
   "source": [
    "Note that the indentation here is important.\n",
    "It determines whether the code falls under the `if` statement or not."
   ]
  },
  {
   "cell_type": "code",
   "execution_count": 2,
   "id": "c6f69cef-b24a-4289-a0f2-506b5d14c7f4",
   "metadata": {},
   "outputs": [
    {
     "name": "stdout",
     "output_type": "stream",
     "text": [
      "I'm outside of the if so I get printed\n"
     ]
    }
   ],
   "source": [
    "if False:\n",
    "    print(\"Not printing\")\n",
    "print(\"I'm outside of the if so I get printed\")"
   ]
  },
  {
   "cell_type": "markdown",
   "id": "4c0bd95b-5387-4a59-bc78-7c15bf76e575",
   "metadata": {},
   "source": [
    "As with much of programming, we can compound the condition and nest it:"
   ]
  },
  {
   "cell_type": "code",
   "execution_count": 3,
   "id": "e26bfe37-8f53-4d31-8cfc-5dd6230a8476",
   "metadata": {},
   "outputs": [
    {
     "name": "stdout",
     "output_type": "stream",
     "text": [
      "This is printing\n"
     ]
    }
   ],
   "source": [
    "if True:\n",
    "    print(\"This is printing\") #yes\n",
    "    if False:\n",
    "        print(\"But not this\") #no\n",
    "if False:\n",
    "    print(\"None of this either\") #no\n",
    "    if True:\n",
    "        print(\"Nor this\") #no"
   ]
  },
  {
   "cell_type": "markdown",
   "id": "092ae008-9d0d-49f9-b392-e8c97a806741",
   "metadata": {},
   "source": [
    "Of course, we wouldn't be checking if `True` is true or `False` is false in a real program.\n",
    "Most likely, we'd have a variable or a condition instead of a literal.\n",
    "\n",
    "> Notice the indentation of the last two lines of code, the last two lines are all inside the `if False` block. To indicate this we add one more level of indentation to every line in the block"
   ]
  },
  {
   "cell_type": "code",
   "execution_count": 4,
   "id": "5acc2fca-d358-4d11-9600-41801aaae389",
   "metadata": {},
   "outputs": [
    {
     "name": "stdout",
     "output_type": "stream",
     "text": [
      "Low\n"
     ]
    }
   ],
   "source": [
    "num = 10\n",
    "if num > 60:\n",
    "    print(\"High\")\n",
    "if num <= 60:\n",
    "    print(\"Low\")"
   ]
  },
  {
   "cell_type": "markdown",
   "id": "db7c8ceb-6dbb-45b7-93ff-6dc9ef717a49",
   "metadata": {},
   "source": [
    "Depending on the value of `num` provided, we'd get an output of `High` or `Low`.\n",
    "\n",
    "The expression `num > 60` either evaluates to `True`, which will tell Python to proceed with the clause under the first `if` statement, or `num <= 60` is true, telling Python to print `Low`.\n",
    "\n",
    "This either-or pattern is common enough that we have a construct for that.\n",
    "\n",
    "## `else`\n",
    "\n",
    "The `if` statement may have an optional `else` statement after it, implementing the either-or pattern.\n",
    "\n",
    "In an `if-else` statement, only one block of the two is executed."
   ]
  },
  {
   "cell_type": "code",
   "execution_count": 5,
   "id": "30cc3e92-61bb-4c8e-a7ca-4e7d75cd09b5",
   "metadata": {},
   "outputs": [
    {
     "name": "stdout",
     "output_type": "stream",
     "text": [
      "Only this\n"
     ]
    }
   ],
   "source": [
    "if True:\n",
    "    print(\"Only this\")\n",
    "else:\n",
    "    print(\"and not this\")"
   ]
  },
  {
   "cell_type": "code",
   "execution_count": 6,
   "id": "bc6f4836-cdf6-495d-ad16-1f01d97582d5",
   "metadata": {},
   "outputs": [
    {
     "ename": "StdinNotImplementedError",
     "evalue": "raw_input was called, but this frontend does not support input requests.",
     "output_type": "error",
     "traceback": [
      "\u001b[1;31m---------------------------------------------------------------------------\u001b[0m",
      "\u001b[1;31mStdinNotImplementedError\u001b[0m                  Traceback (most recent call last)",
      "Cell \u001b[1;32mIn[6], line 1\u001b[0m\n\u001b[1;32m----> 1\u001b[0m num \u001b[38;5;241m=\u001b[39m \u001b[38;5;28mint\u001b[39m(\u001b[38;5;28;43minput\u001b[39;49m\u001b[43m(\u001b[49m\u001b[43m)\u001b[49m)\n\u001b[0;32m      2\u001b[0m \u001b[38;5;28;01mif\u001b[39;00m num \u001b[38;5;241m>\u001b[39m \u001b[38;5;241m60\u001b[39m:\n\u001b[0;32m      3\u001b[0m     \u001b[38;5;28mprint\u001b[39m(\u001b[38;5;124m\"\u001b[39m\u001b[38;5;124mHigh\u001b[39m\u001b[38;5;124m\"\u001b[39m)\n",
      "File \u001b[1;32m~\\AppData\\Local\\Programs\\Python\\Python312\\Lib\\site-packages\\ipykernel\\kernelbase.py:1281\u001b[0m, in \u001b[0;36mKernel.raw_input\u001b[1;34m(self, prompt)\u001b[0m\n\u001b[0;32m   1279\u001b[0m \u001b[38;5;28;01mif\u001b[39;00m \u001b[38;5;129;01mnot\u001b[39;00m \u001b[38;5;28mself\u001b[39m\u001b[38;5;241m.\u001b[39m_allow_stdin:\n\u001b[0;32m   1280\u001b[0m     msg \u001b[38;5;241m=\u001b[39m \u001b[38;5;124m\"\u001b[39m\u001b[38;5;124mraw_input was called, but this frontend does not support input requests.\u001b[39m\u001b[38;5;124m\"\u001b[39m\n\u001b[1;32m-> 1281\u001b[0m     \u001b[38;5;28;01mraise\u001b[39;00m StdinNotImplementedError(msg)\n\u001b[0;32m   1282\u001b[0m \u001b[38;5;28;01mreturn\u001b[39;00m \u001b[38;5;28mself\u001b[39m\u001b[38;5;241m.\u001b[39m_input_request(\n\u001b[0;32m   1283\u001b[0m     \u001b[38;5;28mstr\u001b[39m(prompt),\n\u001b[0;32m   1284\u001b[0m     \u001b[38;5;28mself\u001b[39m\u001b[38;5;241m.\u001b[39m_parent_ident[\u001b[38;5;124m\"\u001b[39m\u001b[38;5;124mshell\u001b[39m\u001b[38;5;124m\"\u001b[39m],\n\u001b[0;32m   1285\u001b[0m     \u001b[38;5;28mself\u001b[39m\u001b[38;5;241m.\u001b[39mget_parent(\u001b[38;5;124m\"\u001b[39m\u001b[38;5;124mshell\u001b[39m\u001b[38;5;124m\"\u001b[39m),\n\u001b[0;32m   1286\u001b[0m     password\u001b[38;5;241m=\u001b[39m\u001b[38;5;28;01mFalse\u001b[39;00m,\n\u001b[0;32m   1287\u001b[0m )\n",
      "\u001b[1;31mStdinNotImplementedError\u001b[0m: raw_input was called, but this frontend does not support input requests."
     ]
    }
   ],
   "source": [
    "num = int(input())\n",
    "if num > 60:\n",
    "    print(\"High\")\n",
    "else:\n",
    "    print(\"Low\")"
   ]
  },
  {
   "cell_type": "markdown",
   "id": "0bd95dce-975a-424e-b4a7-ec9d7a8808fb",
   "metadata": {},
   "source": [
    "> Using `else` without an `if` is a syntax error.\n",
    "\n",
    "Creating `if-else` blocks, allows us to split the program into two branches. If we are looking for more than two we can compound `if-else` statements inside other `if` or `else` statements."
   ]
  },
  {
   "cell_type": "code",
   "execution_count": 20,
   "id": "0268f628-f5f9-4139-b2d1-6341fd39c135",
   "metadata": {},
   "outputs": [
    {
     "name": "stdin",
     "output_type": "stream",
     "text": [
      " 30\n"
     ]
    },
    {
     "name": "stdout",
     "output_type": "stream",
     "text": [
      "Low\n"
     ]
    }
   ],
   "source": [
    "num = int(input())\n",
    "if num > 60:\n",
    "    print(\"High\")\n",
    "else:\n",
    "    if num <=60 and num > 40:\n",
    "        print(\"Medium\")\n",
    "    else:\n",
    "        print(\"Low\")"
   ]
  },
  {
   "cell_type": "markdown",
   "id": "f17c3451-dadb-45e4-93e1-40aeac8a2aa7",
   "metadata": {},
   "source": [
    "In the code above, the program can go in either three branches, if the inputted number is greater than 60, it goes to the first branch and prints \"High\", if the inputted number is 60 or lesser but greater than 40, it goes to the 2nd branch. If it is not greater than 60, or if it is not between 40 and 60, it goes to the third branch. The third branch in this case is the `else` branch of the `else` branch.\n",
    "\n",
    "> Notice the indentation of the last four lines of code, the last four lines are all inside the `else` block. To indicate this we add one more level of indentation to the every line in the block\n",
    "\n",
    "You can write write three branches neatly using the `elif` block. `elif` is short for `else-if` and it acts like a combination of an `else` block and an `if` block. Using the `elif` block we can write a more readable program equivalent to the previous program."
   ]
  },
  {
   "cell_type": "code",
   "execution_count": 22,
   "id": "18d11b3b-88b2-464f-a550-d59355d23b6e",
   "metadata": {},
   "outputs": [
    {
     "name": "stdin",
     "output_type": "stream",
     "text": [
      " 25\n"
     ]
    },
    {
     "name": "stdout",
     "output_type": "stream",
     "text": [
      "Medium Low\n"
     ]
    }
   ],
   "source": [
    "num = int(input())\n",
    "if num > 60:\n",
    "    print(\"High\")\n",
    "elif num <=60 and num > 40:\n",
    "    print(\"Medium\")\n",
    "elif num <= 40 and num > 20:\n",
    "    print(\"Medium Low\")\n",
    "else:\n",
    "    print(\"Low\")"
   ]
  },
  {
   "cell_type": "code",
   "execution_count": null,
   "id": "41d2703d-ecd5-4696-8ec4-c57e077d2b27",
   "metadata": {},
   "outputs": [],
   "source": []
  }
 ],
 "metadata": {
  "kernelspec": {
   "display_name": "Python 3 (ipykernel)",
   "language": "python",
   "name": "python3"
  },
  "language_info": {
   "codemirror_mode": {
    "name": "ipython",
    "version": 3
   },
   "file_extension": ".py",
   "mimetype": "text/x-python",
   "name": "python",
   "nbconvert_exporter": "python",
   "pygments_lexer": "ipython3",
   "version": "3.12.3"
  }
 },
 "nbformat": 4,
 "nbformat_minor": 5
}